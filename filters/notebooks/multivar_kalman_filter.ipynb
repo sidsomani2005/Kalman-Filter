{
 "cells": [
  {
   "cell_type": "markdown",
   "id": "88ed829f",
   "metadata": {},
   "source": [
    "# Input Descriptions\n",
    "#### x\tState vector (what we estimate, e.g., [position, velocity])\t(n × 1)\n",
    "#### F\tState transition (how the state evolves)\t(n × n)\n",
    "#### H\tObservation (how states map to measurements)\t(m × n)\n",
    "#### P\tState covariance (uncertainty in our estimate)\t(n × n)\n",
    "#### Q\tProcess noise (how much we distrust the model)\t(n × n)\n",
    "#### R\tMeasurement noise (how much we distrust sensors)\t(m × m)\n",
    "#### K\tKalman Gain (weights measurements vs. predictions)\t(n × m)"
   ]
  },
  {
   "cell_type": "code",
   "execution_count": 1,
   "id": "0b0405a2",
   "metadata": {},
   "outputs": [],
   "source": [
    "import numpy as np\n",
    "import matplotlib.pyplot as plt\n",
    "from scipy.linalg import sqrtm\n",
    "plt.style.use('seaborn-v0_8-whitegrid')\n",
    "%matplotlib inline"
   ]
  },
  {
   "cell_type": "code",
   "execution_count": 2,
   "id": "b86088f3",
   "metadata": {},
   "outputs": [],
   "source": [
    "# Time step\n",
    "dt = 0.1\n",
    "\n",
    "# State transition matrix (constant velocity model)\n",
    "F = np.array([\n",
    "    [1, 0, dt, 0],\n",
    "    [0, 1, 0, dt],\n",
    "    [0, 0, 1, 0],\n",
    "    [0, 0, 0, 1]\n",
    "])\n",
    "\n",
    "# Observation matrix (we observe position but not velocity)\n",
    "H = np.array([\n",
    "    [1, 0, 0, 0],\n",
    "    [0, 1, 0, 0]\n",
    "])\n",
    "\n",
    "# Process noise covariance\n",
    "Q = np.array([\n",
    "    [0.05, 0, 0.1, 0],\n",
    "    [0, 0.05, 0, 0.1],\n",
    "    [0.1, 0, 0.2, 0],\n",
    "    [0, 0.1, 0, 0.2]\n",
    "]) * 0.1\n",
    "\n",
    "# Measurement noise covariance\n",
    "R = np.array([\n",
    "    [0.5, 0.2],\n",
    "    [0.2, 0.5]\n",
    "])\n",
    "\n",
    "# Initial state covariance\n",
    "P = np.eye(4) * 10\n",
    "\n",
    "# Initial state (position and velocity)\n",
    "x0 = np.array([0, 0, 1, 0.5])"
   ]
  },
  {
   "cell_type": "code",
   "execution_count": null,
   "id": "50d0db2f",
   "metadata": {},
   "outputs": [
    {
     "ename": "ModuleNotFoundError",
     "evalue": "No module named 'mkf'",
     "output_type": "error",
     "traceback": [
      "\u001b[0;31m---------------------------------------------------------------------------\u001b[0m",
      "\u001b[0;31mModuleNotFoundError\u001b[0m                       Traceback (most recent call last)",
      "Cell \u001b[0;32mIn[3], line 6\u001b[0m\n\u001b[1;32m      2\u001b[0m \u001b[38;5;28;01mimport\u001b[39;00m\u001b[38;5;250m \u001b[39m\u001b[38;5;21;01mos\u001b[39;00m\n\u001b[1;32m      4\u001b[0m sys\u001b[38;5;241m.\u001b[39mpath\u001b[38;5;241m.\u001b[39mappend(os\u001b[38;5;241m.\u001b[39mpath\u001b[38;5;241m.\u001b[39mabspath(\u001b[38;5;124m'\u001b[39m\u001b[38;5;124m../../filters/implementations\u001b[39m\u001b[38;5;124m'\u001b[39m))\n\u001b[0;32m----> 6\u001b[0m \u001b[38;5;28;01mfrom\u001b[39;00m\u001b[38;5;250m \u001b[39m\u001b[38;5;21;01mmkf\u001b[39;00m\u001b[38;5;250m \u001b[39m\u001b[38;5;28;01mimport\u001b[39;00m MultivariateKalmanFilter\n",
      "\u001b[0;31mModuleNotFoundError\u001b[0m: No module named 'mkf'"
     ]
    }
   ],
   "source": [
    "# import sys\n",
    "# import os\n",
    "\n",
    "# sys.path.append(os.path.abspath('../../filters/implementations'))\n",
    "\n",
    "from mkf import MultivariateKalmanFilter"
   ]
  }
 ],
 "metadata": {
  "kernelspec": {
   "display_name": "base",
   "language": "python",
   "name": "python3"
  },
  "language_info": {
   "codemirror_mode": {
    "name": "ipython",
    "version": 3
   },
   "file_extension": ".py",
   "mimetype": "text/x-python",
   "name": "python",
   "nbconvert_exporter": "python",
   "pygments_lexer": "ipython3",
   "version": "3.11.5"
  }
 },
 "nbformat": 4,
 "nbformat_minor": 5
}
