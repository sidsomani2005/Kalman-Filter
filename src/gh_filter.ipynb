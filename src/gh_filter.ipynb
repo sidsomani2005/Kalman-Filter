{
 "cells": [
  {
   "cell_type": "code",
   "execution_count": 1,
   "id": "29c166d1",
   "metadata": {},
   "outputs": [],
   "source": [
    "import matplotlib.pyplot as plt\n",
    "\n",
    "weights = [158.0, 164.2, 160.3, 159.9, 162.1, 164.6, 169.6, 167.4, 166.4, 171.0, 171.2, 172.6]"
   ]
  },
  {
   "cell_type": "code",
   "execution_count": 2,
   "id": "d39e6ca6",
   "metadata": {},
   "outputs": [],
   "source": [
    "weight = 160.  # initial guess\n",
    "gain_rate = -1.0  # initial guess\n",
    "\n",
    "time_step = 1.\n",
    "weight_scale = 4./10\n",
    "gain_scale = 1./3\n",
    "estimates = [weight]\n",
    "predictions = []\n",
    "\n",
    "for z in weights:\n",
    "    # prediction step\n",
    "    weight = weight + gain_rate*time_step\n",
    "    gain_rate = gain_rate\n",
    "    predictions.append(weight)\n",
    "    \n",
    "    # update step    \n",
    "    residual = z - weight\n",
    "    \n",
    "    gain_rate = gain_rate + gain_scale   * (residual/time_step)\n",
    "    weight    = weight    + weight_scale * residual\n",
    "  \n",
    "    estimates.append(weight)"
   ]
  },
  {
   "cell_type": "code",
   "execution_count": null,
   "id": "0d016851",
   "metadata": {},
   "outputs": [],
   "source": [
    "time = list(range(len(weights))) \n",
    "time_est = list(range(len(estimates))) \n",
    "\n",
    "plt.figure(figsize=(10, 6))\n",
    "plt.plot(time, weights, 'ko-', label='Observed Weight')\n",
    "plt.plot(time, predictions, 'b--', label='Predicted Weight')\n",
    "plt.plot(time_est, estimates, 'g-', label='Estimated Weight')\n",
    "\n",
    "plt.xlabel('Time Step')\n",
    "plt.ylabel('Weight')\n",
    "plt.title('Weight Estimation Over Time')\n",
    "plt.legend()\n",
    "plt.grid(True)\n",
    "plt.show()"
   ]
  }
 ],
 "metadata": {
  "kernelspec": {
   "display_name": "base",
   "language": "python",
   "name": "python3"
  },
  "language_info": {
   "codemirror_mode": {
    "name": "ipython",
    "version": 3
   },
   "file_extension": ".py",
   "mimetype": "text/x-python",
   "name": "python",
   "nbconvert_exporter": "python",
   "pygments_lexer": "ipython3",
   "version": "3.11.5"
  }
 },
 "nbformat": 4,
 "nbformat_minor": 5
}
