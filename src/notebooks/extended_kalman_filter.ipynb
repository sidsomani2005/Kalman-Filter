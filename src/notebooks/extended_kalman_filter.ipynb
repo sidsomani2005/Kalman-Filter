{
 "cells": [
  {
   "cell_type": "code",
   "execution_count": 5,
   "id": "9d879106",
   "metadata": {},
   "outputs": [],
   "source": [
    "import numpy as np\n",
    "import matplotlib.pyplot as plt"
   ]
  },
  {
   "cell_type": "code",
   "execution_count": null,
   "id": "4f5ccd72",
   "metadata": {},
   "outputs": [],
   "source": [
    "from ekf import ExtendedKalmanFilter"
   ]
  },
  {
   "cell_type": "code",
   "execution_count": 15,
   "id": "7a49f10d",
   "metadata": {},
   "outputs": [
    {
     "ename": "AttributeError",
     "evalue": "'ExtendedKalmanFilter' object has no attribute '_validate_initial_parameters'",
     "output_type": "error",
     "traceback": [
      "\u001b[0;31m---------------------------------------------------------------------------\u001b[0m",
      "\u001b[0;31mAttributeError\u001b[0m                            Traceback (most recent call last)",
      "Cell \u001b[0;32mIn[15], line 33\u001b[0m\n\u001b[1;32m     30\u001b[0m R \u001b[38;5;241m=\u001b[39m np\u001b[38;5;241m.\u001b[39marray([[\u001b[38;5;241m1.0\u001b[39m]])        \u001b[38;5;66;03m# measurement noise\u001b[39;00m\n\u001b[1;32m     32\u001b[0m \u001b[38;5;66;03m# Create EKF instance\u001b[39;00m\n\u001b[0;32m---> 33\u001b[0m kf \u001b[38;5;241m=\u001b[39m ExtendedKalmanFilter(f, h, F_jacobian, H_jacobian, Q, R, P0, x0)\n\u001b[1;32m     35\u001b[0m \u001b[38;5;66;03m# Simulate motion and noisy measurements\u001b[39;00m\n\u001b[1;32m     36\u001b[0m num_steps \u001b[38;5;241m=\u001b[39m \u001b[38;5;241m20\u001b[39m\n",
      "File \u001b[0;32m~/Desktop/Kalman-Filter/src/implementations/ekf.py:30\u001b[0m, in \u001b[0;36mExtendedKalmanFilter.__init__\u001b[0;34m(self, f, h, F_jacobian, H_jacobian, Q, R, P, x0)\u001b[0m\n\u001b[1;32m     27\u001b[0m \u001b[38;5;28mself\u001b[39m\u001b[38;5;241m.\u001b[39mx \u001b[38;5;241m=\u001b[39m x0\n\u001b[1;32m     28\u001b[0m \u001b[38;5;28mself\u001b[39m\u001b[38;5;241m.\u001b[39mI \u001b[38;5;241m=\u001b[39m np\u001b[38;5;241m.\u001b[39meye(\u001b[38;5;28mlen\u001b[39m(x0))\n\u001b[0;32m---> 30\u001b[0m \u001b[38;5;28mself\u001b[39m\u001b[38;5;241m.\u001b[39m_validate_initial_parameters()\n",
      "\u001b[0;31mAttributeError\u001b[0m: 'ExtendedKalmanFilter' object has no attribute '_validate_initial_parameters'"
     ]
    }
   ],
   "source": [
    "# Simulated system: 1D constant velocity\n",
    "dt = 1.0  # time step\n",
    "\n",
    "# Define the nonlinear state transition function f(x, u)\n",
    "def f(x, u=None):\n",
    "    F = np.array([[1, dt],\n",
    "                  [0, 1]])\n",
    "    return F @ x\n",
    "\n",
    "# Define the nonlinear measurement function h(x)\n",
    "def h(x):\n",
    "    return np.array([x[0]])  # measuring position only\n",
    "\n",
    "# Jacobian of f w.r.t x\n",
    "def F_jacobian(x, u=None):\n",
    "    return np.array([[1, dt],\n",
    "                     [0, 1]])\n",
    "\n",
    "# Jacobian of h w.r.t x\n",
    "def H_jacobian(x):\n",
    "    return np.array([[1, 0]])\n",
    "\n",
    "# Initial state\n",
    "x0 = np.array([0.0, 1.0])  # starting at position 0 with velocity 1 m/s\n",
    "\n",
    "# Covariances\n",
    "P0 = np.eye(2) * 1.0\n",
    "Q = np.array([[0.1, 0.0],\n",
    "              [0.0, 0.1]])  # process noise\n",
    "R = np.array([[1.0]])        # measurement noise\n",
    "\n",
    "# Create EKF instance\n",
    "kf = ExtendedKalmanFilter(f, h, F_jacobian, H_jacobian, Q, R, P0, x0)\n",
    "\n",
    "# Simulate motion and noisy measurements\n",
    "num_steps = 20\n",
    "true_states = []\n",
    "measurements = []\n",
    "estimates = []\n",
    "\n",
    "true_x = x0.copy()\n",
    "\n",
    "for i in range(num_steps):\n",
    "    # Simulate true motion\n",
    "    true_x = f(true_x)\n",
    "    true_states.append(true_x.copy())\n",
    "\n",
    "    # Generate noisy measurement of position\n",
    "    z = h(true_x) + np.random.normal(0, np.sqrt(R[0, 0]), size=(1,))\n",
    "    measurements.append(z)\n",
    "\n",
    "    # EKF predict and update\n",
    "    kf.predict()\n",
    "    x_est = kf.update(z)\n",
    "    estimates.append(x_est)\n",
    "\n",
    "# Convert results to numpy arrays\n",
    "true_states = np.array(true_states)\n",
    "measurements = np.array(measurements).flatten()\n",
    "estimates = np.array(estimates)\n",
    "\n",
    "# Plot results\n",
    "plt.figure(figsize=(10, 5))\n",
    "plt.plot(true_states[:, 0], label='True Position')\n",
    "plt.plot(measurements, 'o', label='Measured Position', alpha=0.5)\n",
    "plt.plot(estimates[:, 0], label='EKF Estimated Position')\n",
    "plt.legend()\n",
    "plt.xlabel('Time Step')\n",
    "plt.ylabel('Position')\n",
    "plt.title('EKF Test - 1D Constant Velocity')\n",
    "plt.grid(True)\n",
    "plt.show()"
   ]
  }
 ],
 "metadata": {
  "kernelspec": {
   "display_name": "base",
   "language": "python",
   "name": "python3"
  },
  "language_info": {
   "codemirror_mode": {
    "name": "ipython",
    "version": 3
   },
   "file_extension": ".py",
   "mimetype": "text/x-python",
   "name": "python",
   "nbconvert_exporter": "python",
   "pygments_lexer": "ipython3",
   "version": "3.11.5"
  }
 },
 "nbformat": 4,
 "nbformat_minor": 5
}
